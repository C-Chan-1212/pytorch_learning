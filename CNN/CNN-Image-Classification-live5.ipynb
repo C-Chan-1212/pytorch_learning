{
 "cells": [
  {
   "cell_type": "markdown",
   "metadata": {},
   "source": [
    "CNN图像分类\n",
    "=\n",
    "* Stanford CS231n\n",
    "* AlexNet\n",
    "* VGG\n",
    "* ResNet\n",
    "* Densnet"
   ]
  },
  {
   "cell_type": "code",
   "execution_count": 1,
   "metadata": {},
   "outputs": [
    {
     "name": "stdout",
     "output_type": "stream",
     "text": [
      "Pytorch Version:  1.0.1.post2\n"
     ]
    }
   ],
   "source": [
    "import numpy as np\n",
    "import torch\n",
    "import torch.nn as nn\n",
    "import torch.nn.functional as F\n",
    "import torch.optim as optim\n",
    "from torchvision import datasets, transforms\n",
    "print(\"Pytorch Version: \", torch.__version__)"
   ]
  },
  {
   "cell_type": "markdown",
   "metadata": {},
   "source": [
    "首先定义一个基于convnet的简单的神经网络\n",
    "-"
   ]
  },
  {
   "cell_type": "code",
   "execution_count": 2,
   "metadata": {},
   "outputs": [],
   "source": [
    "class Net(nn.Module):\n",
    "    def __init__(self):\n",
    "        super(Net, self).__init__()\n",
    "        self.conv1 = nn.Conv2d(1, 20, 5, 1)\n",
    "        self.conv2 = nn.Conv2d(20, 50, 5, 1)\n",
    "        self.fc1 = nn.Linear(4*4*50, 500)\n",
    "        self.fc2 = nn.Linear(500, 10)\n",
    "        \n",
    "        \n",
    "    def forward(self, x):\n",
    "        x = F.relu(self.conv1(x)) # [20, 24, 24]\n",
    "        x = F.max_pool2d(x, 2, 2) # [20, 12, 12]\n",
    "        x = F.relu(self.conv2(x)) # [50, 8, 8]\n",
    "        x = F.max_pool2d(x, 2, 2) # [50, 4, 4]\n",
    "        x = x.view(-1, 4*4*50)\n",
    "        x = F.relu(self.fc1(x))\n",
    "        x = self.fc2(x)\n",
    "        \n",
    "        return F.log_softmax(x, dim=1)"
   ]
  },
  {
   "cell_type": "code",
   "execution_count": 3,
   "metadata": {},
   "outputs": [
    {
     "data": {
      "text/plain": [
       "Dataset MNIST\n",
       "    Number of datapoints: 60000\n",
       "    Split: train\n",
       "    Root Location: ./mnist_data\n",
       "    Transforms (if any): Compose(\n",
       "                             ToTensor()\n",
       "                         )\n",
       "    Target Transforms (if any): None"
      ]
     },
     "execution_count": 3,
     "metadata": {},
     "output_type": "execute_result"
    }
   ],
   "source": [
    "mnist_data = datasets.MNIST(\"./mnist_data\", train = True, download = True,\n",
    "                            transform = transforms.Compose([\n",
    "                                transforms.ToTensor()    \n",
    "                            ])) # transform 把图片转化为了tensor\n",
    "mnist_data"
   ]
  },
  {
   "cell_type": "code",
   "execution_count": 4,
   "metadata": {},
   "outputs": [
    {
     "data": {
      "text/plain": [
       "torch.Size([1, 28, 28])"
      ]
     },
     "execution_count": 4,
     "metadata": {},
     "output_type": "execute_result"
    }
   ],
   "source": [
    "mnist_data[0][0].shape"
   ]
  },
  {
   "cell_type": "code",
   "execution_count": 5,
   "metadata": {},
   "outputs": [],
   "source": [
    "# mnist_data[0][0]"
   ]
  },
  {
   "cell_type": "code",
   "execution_count": 7,
   "metadata": {},
   "outputs": [],
   "source": [
    "data = [d[0].data.cpu().numpy() for d in mnist_data]"
   ]
  },
  {
   "cell_type": "code",
   "execution_count": 8,
   "metadata": {},
   "outputs": [],
   "source": [
    "# data[0]"
   ]
  },
  {
   "cell_type": "code",
   "execution_count": 10,
   "metadata": {},
   "outputs": [],
   "source": [
    "#"
   ]
  },
  {
   "cell_type": "code",
   "execution_count": 12,
   "metadata": {},
   "outputs": [],
   "source": [
    "device = torch.device(\"cuda\" if torch.cuda.is_available else \"cpu\")\n",
    "BATCH_SIZE = 64\n",
    "train_dataloader = torch.utils.data.DataLoader(\n",
    "    datasets.MNIST(\"./mnist_data\", train = True, download = True,\n",
    "    transform = transforms.Compose([\n",
    "        transforms.ToTensor(),\n",
    "        transforms.Normalize((0.1306,),(0.3081,))\n",
    "    ])),\n",
    "    batch_size = BATCH_SIZE, shuffle = True, num_workers = 1, pin_memory = True\n",
    "                    )\n",
    "\n",
    "test_dataloader = torch.utils.data.DataLoader(\n",
    "    datasets.MNIST(\"./mnist_data\", train = False, download = True,\n",
    "    transform = transforms.Compose([\n",
    "        transforms.ToTensor(),\n",
    "        transforms.Normalize((np.mean(data),),(np.std(data),))\n",
    "    ])),\n",
    "    batch_size = BATCH_SIZE, shuffle = True, num_workers = 1, pin_memory = True\n",
    "                    )\n",
    "\n",
    "lr = 0.01\n",
    "momentum = 0.5\n",
    "model = Net().to(device)\n",
    "optimizer = torch.optim.SGD(model.parameters(), lr = lr, momentum = momentum)\n"
   ]
  },
  {
   "cell_type": "code",
   "execution_count": 14,
   "metadata": {},
   "outputs": [],
   "source": [
    "def train(model, device, train_loader, optimizer, epoch):\n",
    "    model.train()\n",
    "    for idx, (data, target) in enumerate(train_loader):\n",
    "        data, target = data.to(device), target.to(device)\n",
    "        pred = model(data) # [batch_size * 10]\n",
    "        loss = F.nll_loss(pred, target) \n",
    "        \n",
    "        \n",
    "        # sgd\n",
    "        optimizer.zero_grad()\n",
    "        loss.backward()\n",
    "        optimizer.step()\n",
    "        \n",
    "        if idx % 100 == 0:\n",
    "            print(\"Train Epoch: {}, iteration: {} , Loss: {}\".format(epoch, idx, loss.item()))"
   ]
  },
  {
   "cell_type": "code",
   "execution_count": 19,
   "metadata": {},
   "outputs": [],
   "source": [
    "def test(model, device, test_loader, epoch):\n",
    "    model.eval()\n",
    "    total_loss = 0.\n",
    "    correct = 0.\n",
    "    with torch.no_grad():\n",
    "        for idx, (data, target) in enumerate(test_loader):\n",
    "            data, target = data.to(device), target.to(device)\n",
    "            output = model(data)\n",
    "            total_loss += F.nll_loss(output, target, reduction = \"sum\").item()\n",
    "            pred = output.argmax(dim = 1)\n",
    "            correct += pred.eq(target.view_as(pred)).sum().item()\n",
    "            \n",
    "\n",
    "    total_loss /= len(test_loader.dataset)\n",
    "    acc = correct/len(test_loader.dataset) * 100\n",
    "    print(\"Test loss: {}, Accuracy: {}\".format(total_loss, acc))\n",
    "\n",
    "    model.train()"
   ]
  },
  {
   "cell_type": "code",
   "execution_count": 20,
   "metadata": {},
   "outputs": [
    {
     "name": "stdout",
     "output_type": "stream",
     "text": [
      "Train Epoch: 0, iteration: 0 , Loss: 0.07222264260053635\n",
      "Train Epoch: 0, iteration: 100 , Loss: 0.028401784598827362\n",
      "Train Epoch: 0, iteration: 200 , Loss: 0.10096027702093124\n",
      "Train Epoch: 0, iteration: 300 , Loss: 0.11841542273759842\n",
      "Train Epoch: 0, iteration: 400 , Loss: 0.04357606917619705\n",
      "Train Epoch: 0, iteration: 500 , Loss: 0.03476938605308533\n",
      "Train Epoch: 0, iteration: 600 , Loss: 0.04522170126438141\n",
      "Train Epoch: 0, iteration: 700 , Loss: 0.04935184866189957\n",
      "Train Epoch: 0, iteration: 800 , Loss: 0.14072354137897491\n",
      "Train Epoch: 0, iteration: 900 , Loss: 0.039729125797748566\n",
      "Test loss: 0.055588755607604984, Accuracy: 98.11999999999999\n",
      "Train Epoch: 1, iteration: 0 , Loss: 0.04523603990674019\n",
      "Train Epoch: 1, iteration: 100 , Loss: 0.17083124816417694\n",
      "Train Epoch: 1, iteration: 200 , Loss: 0.06908587366342545\n",
      "Train Epoch: 1, iteration: 300 , Loss: 0.1428205817937851\n",
      "Train Epoch: 1, iteration: 400 , Loss: 0.03196604549884796\n",
      "Train Epoch: 1, iteration: 500 , Loss: 0.15478156507015228\n",
      "Train Epoch: 1, iteration: 600 , Loss: 0.06675578653812408\n",
      "Train Epoch: 1, iteration: 700 , Loss: 0.02038717269897461\n",
      "Train Epoch: 1, iteration: 800 , Loss: 0.15693065524101257\n",
      "Train Epoch: 1, iteration: 900 , Loss: 0.0700400248169899\n",
      "Test loss: 0.04360729749202728, Accuracy: 98.64\n",
      "Train Epoch: 2, iteration: 0 , Loss: 0.010432012379169464\n",
      "Train Epoch: 2, iteration: 100 , Loss: 0.03316595032811165\n",
      "Train Epoch: 2, iteration: 200 , Loss: 0.05131871998310089\n",
      "Train Epoch: 2, iteration: 300 , Loss: 0.0035427361726760864\n",
      "Train Epoch: 2, iteration: 400 , Loss: 0.052262719720602036\n",
      "Train Epoch: 2, iteration: 500 , Loss: 0.022436201572418213\n",
      "Train Epoch: 2, iteration: 600 , Loss: 0.04954971373081207\n",
      "Train Epoch: 2, iteration: 700 , Loss: 0.037248075008392334\n",
      "Train Epoch: 2, iteration: 800 , Loss: 0.09558071941137314\n",
      "Train Epoch: 2, iteration: 900 , Loss: 0.04775330424308777\n",
      "Test loss: 0.037536430644989016, Accuracy: 98.81\n",
      "Train Epoch: 3, iteration: 0 , Loss: 0.026823751628398895\n",
      "Train Epoch: 3, iteration: 100 , Loss: 0.004978373646736145\n",
      "Train Epoch: 3, iteration: 200 , Loss: 0.09488137811422348\n",
      "Train Epoch: 3, iteration: 300 , Loss: 0.033830009400844574\n",
      "Train Epoch: 3, iteration: 400 , Loss: 0.10027007758617401\n",
      "Train Epoch: 3, iteration: 500 , Loss: 0.0880422443151474\n",
      "Train Epoch: 3, iteration: 600 , Loss: 0.00998329371213913\n",
      "Train Epoch: 3, iteration: 700 , Loss: 0.07878311723470688\n",
      "Train Epoch: 3, iteration: 800 , Loss: 0.028814591467380524\n",
      "Train Epoch: 3, iteration: 900 , Loss: 0.13166429102420807\n",
      "Test loss: 0.03630691640377045, Accuracy: 98.81\n",
      "Train Epoch: 4, iteration: 0 , Loss: 0.0035269707441329956\n",
      "Train Epoch: 4, iteration: 100 , Loss: 0.07869546115398407\n",
      "Train Epoch: 4, iteration: 200 , Loss: 0.015539631247520447\n",
      "Train Epoch: 4, iteration: 300 , Loss: 0.01535739004611969\n",
      "Train Epoch: 4, iteration: 400 , Loss: 0.0942320004105568\n",
      "Train Epoch: 4, iteration: 500 , Loss: 0.013008296489715576\n",
      "Train Epoch: 4, iteration: 600 , Loss: 0.00611405074596405\n",
      "Train Epoch: 4, iteration: 700 , Loss: 0.05094742029905319\n",
      "Train Epoch: 4, iteration: 800 , Loss: 0.14692427217960358\n",
      "Train Epoch: 4, iteration: 900 , Loss: 0.009368814527988434\n",
      "Test loss: 0.03846289794445038, Accuracy: 98.64\n"
     ]
    }
   ],
   "source": [
    "NUM_EPOCHS = 5\n",
    "for epoch in range(NUM_EPOCHS):\n",
    "    train(model, device, train_dataloader, optimizer, epoch)\n",
    "    test(model, device, test_dataloader, epoch)\n",
    "    \n",
    "torch.save(model.state_dict(), \"mnist_cnn.pth\")"
   ]
  },
  {
   "cell_type": "markdown",
   "metadata": {},
   "source": [
    "NLL Loss 的定义\n",
    "-\n",
    "$$ \\mathcal{L} (x,y) = L = \\{\\mathcal{l}_1,\\ldots,\\mathcal{l}_N \\}^T,  \\mathcal{l}_n = \\mathcal{w}_{\\mathcal{y}_\\mathcal{n}} x_{n, y_{\\mathcal{n}}} $$\n",
    "-"
   ]
  },
  {
   "cell_type": "code",
   "execution_count": null,
   "metadata": {},
   "outputs": [],
   "source": []
  }
 ],
 "metadata": {
  "kernelspec": {
   "display_name": "Python 3",
   "language": "python",
   "name": "python3"
  },
  "language_info": {
   "codemirror_mode": {
    "name": "ipython",
    "version": 3
   },
   "file_extension": ".py",
   "mimetype": "text/x-python",
   "name": "python",
   "nbconvert_exporter": "python",
   "pygments_lexer": "ipython3",
   "version": "3.7.1"
  },
  "toc-autonumbering": true,
  "toc-showcode": true,
  "toc-showmarkdowntxt": true
 },
 "nbformat": 4,
 "nbformat_minor": 4
}
